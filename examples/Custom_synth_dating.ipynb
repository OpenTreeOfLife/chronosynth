{
 "cells": [
  {
   "cell_type": "markdown",
   "id": "cd856a79",
   "metadata": {},
   "source": [
    "## To install jupyter in a virtual environment, see:\n",
    " http://opentreeoflife.github.io/jupyter-venv\n"
   ]
  },
  {
   "cell_type": "code",
   "execution_count": 1,
   "id": "bba73491",
   "metadata": {},
   "outputs": [],
   "source": [
    "import dendropy\n",
    "from opentree import OT"
   ]
  },
  {
   "cell_type": "markdown",
   "id": "b5c6dbc9",
   "metadata": {},
   "source": [
    "## Custom synth API\n",
    "https://github.com/OpenTreeOfLife/ws_wrapper/blob/synth-on-demand/synth-on-demand.md"
   ]
  },
  {
   "cell_type": "markdown",
   "id": "1c730d53",
   "metadata": {},
   "source": [
    "Use curl to run custom synthesis on a collection or list of collections"
   ]
  },
  {
   "cell_type": "code",
   "execution_count": 2,
   "id": "73c496e0",
   "metadata": {},
   "outputs": [
    {
     "data": {
      "text/plain": [
       "81461"
      ]
     },
     "execution_count": 2,
     "metadata": {},
     "output_type": "execute_result"
    }
   ],
   "source": [
    "OT.get_ottid_from_name(\"Aves\")"
   ]
  },
  {
   "cell_type": "code",
   "execution_count": 3,
   "id": "a74cf601",
   "metadata": {},
   "outputs": [
    {
     "name": "stdout",
     "output_type": "stream",
     "text": [
      "{\"opentree_home\": \"/home/otcetera/custom_synth_repos\", \"ott_dir\": \"/home/otcetera/custom_synth_repos/ott3.2-extinct-flagged\", \"root_ott_id\": \"81461\", \"synth_id\": \"multi_snacktavish_woodpeckers_81461_tmp1cxnx8d1\", \"collections\": \"snacktavish/woodpeckers,josephwb/aves,opentreeoflife/metazoa,opentreeoflife/safe-microbes,opentreeoflife/default,snacktavish/ebirdtaxonomy\", \"cleaning_flags\": \"major_rank_conflict,major_rank_conflict_inherited,environmental,viral,barren,not_otu,hidden,was_container,inconsistent,hybrid,merged\", \"additional_regrafting_flags\": \"extinct_inherited,extinct\", \"queue_order\": 19, \"status\": \"QUEUED\"}"
     ]
    }
   ],
   "source": [
    "!curl -X POST https://ot38.opentreeoflife.org/v3/tree_of_life/build_tree -d '{\"input_collection\":[\"snacktavish/woodpeckers\",\"josephwb/aves\", \"opentreeoflife/metazoa\", \"opentreeoflife/safe-microbes\", \"opentreeoflife/default\", \"snacktavish/ebirdtaxonomy\"], \"root_id\": \"ott81461\"}'\n",
    "\n"
   ]
  },
  {
   "cell_type": "markdown",
   "id": "56dc9f17",
   "metadata": {},
   "source": [
    "Check to see custom synth run has completed"
   ]
  },
  {
   "cell_type": "code",
   "execution_count": 4,
   "id": "69e9700d",
   "metadata": {},
   "outputs": [
    {
     "name": "stdout",
     "output_type": "stream",
     "text": [
      "  % Total    % Received % Xferd  Average Speed   Time    Time     Time  Current\n",
      "                                 Dload  Upload   Total   Spent    Left  Speed\n",
      "100 14060  100 14060    0     0  34716      0 --:--:-- --:--:-- --:--:--     0--:--:-- 34801\n",
      "\u001b[1;39m{\n",
      "  \u001b[0m\u001b[34;1m\"snacktavish_ebirdtaxonomy_1020138_tmpz3b44bqn\"\u001b[0m\u001b[1;39m: \u001b[0m\u001b[1;39m{\n",
      "    \u001b[0m\u001b[34;1m\"opentree_home\"\u001b[0m\u001b[1;39m: \u001b[0m\u001b[0;32m\"/home/otcetera/custom_synth_repos\"\u001b[0m\u001b[1;39m,\n",
      "    \u001b[0m\u001b[34;1m\"ott_dir\"\u001b[0m\u001b[1;39m: \u001b[0m\u001b[0;32m\"/home/otcetera/custom_synth_repos/ott3.2-extinct-flagged\"\u001b[0m\u001b[1;39m,\n",
      "    \u001b[0m\u001b[34;1m\"root_ott_id\"\u001b[0m\u001b[1;39m: \u001b[0m\u001b[0;32m\"1020138\"\u001b[0m\u001b[1;39m,\n",
      "    \u001b[0m\u001b[34;1m\"synth_id\"\u001b[0m\u001b[1;39m: \u001b[0m\u001b[0;32m\"snacktavish_ebirdtaxonomy_1020138_tmpz3b44bqn\"\u001b[0m\u001b[1;39m,\n",
      "    \u001b[0m\u001b[34;1m\"collections\"\u001b[0m\u001b[1;39m: \u001b[0m\u001b[0;32m\"snacktavish/ebirdtaxonomy\"\u001b[0m\u001b[1;39m,\n",
      "    \u001b[0m\u001b[34;1m\"cleaning_flags\"\u001b[0m\u001b[1;39m: \u001b[0m\u001b[0;32m\"major_rank_conflict,major_rank_conflict_inherited,environmental,viral,barren,not_otu,hidden,was_container,inconsistent,hybrid,merged\"\u001b[0m\u001b[1;39m,\n",
      "    \u001b[0m\u001b[34;1m\"additional_regrafting_flags\"\u001b[0m\u001b[1;39m: \u001b[0m\u001b[0;32m\"extinct_inherited,extinct\"\u001b[0m\u001b[1;39m,\n",
      "    \u001b[0m\u001b[34;1m\"queue_order\"\u001b[0m\u001b[1;39m: \u001b[0m\u001b[0;39m7\u001b[0m\u001b[1;39m,\n",
      "    \u001b[0m\u001b[34;1m\"status\"\u001b[0m\u001b[1;39m: \u001b[0m\u001b[0;32m\"FAILED\"\u001b[0m\u001b[1;39m,\n",
      "    \u001b[0m\u001b[34;1m\"exit_code\"\u001b[0m\u001b[1;39m: \u001b[0m\u001b[0;39m1\u001b[0m\u001b[1;39m,\n",
      "    \u001b[0m\u001b[34;1m\"download_url\"\u001b[0m\u001b[1;39m: \u001b[0m\u001b[0;32m\"https://ot38.opentreeoflife.org/v3/tree_of_life/custom_built_tree/snacktavish_ebirdtaxonomy_1020138_tmpz3b44bqn.tar.gz\"\u001b[0m\u001b[1;39m\n",
      "  \u001b[1;39m}\u001b[0m\u001b[1;39m,\n",
      "  \u001b[0m\u001b[34;1m\"multi_snacktavish_woodpeckers_1020138_tmp39mwh_av\"\u001b[0m\u001b[1;39m: \u001b[0m\u001b[1;39m{\n",
      "    \u001b[0m\u001b[34;1m\"opentree_home\"\u001b[0m\u001b[1;39m: \u001b[0m\u001b[0;32m\"/home/otcetera/custom_synth_repos\"\u001b[0m\u001b[1;39m,\n",
      "    \u001b[0m\u001b[34;1m\"ott_dir\"\u001b[0m\u001b[1;39m: \u001b[0m\u001b[0;32m\"/home/otcetera/custom_synth_repos/ott3.2-extinct-flagged\"\u001b[0m\u001b[1;39m,\n",
      "    \u001b[0m\u001b[34;1m\"root_ott_id\"\u001b[0m\u001b[1;39m: \u001b[0m\u001b[0;32m\"1020138\"\u001b[0m\u001b[1;39m,\n",
      "    \u001b[0m\u001b[34;1m\"synth_id\"\u001b[0m\u001b[1;39m: \u001b[0m\u001b[0;32m\"multi_snacktavish_woodpeckers_1020138_tmp39mwh_av\"\u001b[0m\u001b[1;39m,\n",
      "    \u001b[0m\u001b[34;1m\"collections\"\u001b[0m\u001b[1;39m: \u001b[0m\u001b[0;32m\"snacktavish/woodpeckers,josephwb/aves,opentreeoflife/metazoa,opentreeoflife/safe-microbes,opentreeoflife/default,snacktavish/ebirdtaxonomy\"\u001b[0m\u001b[1;39m,\n",
      "    \u001b[0m\u001b[34;1m\"cleaning_flags\"\u001b[0m\u001b[1;39m: \u001b[0m\u001b[0;32m\"major_rank_conflict,major_rank_conflict_inherited,environmental,viral,barren,not_otu,hidden,was_container,inconsistent,hybrid,merged\"\u001b[0m\u001b[1;39m,\n",
      "    \u001b[0m\u001b[34;1m\"additional_regrafting_flags\"\u001b[0m\u001b[1;39m: \u001b[0m\u001b[0;32m\"extinct_inherited,extinct\"\u001b[0m\u001b[1;39m,\n",
      "    \u001b[0m\u001b[34;1m\"queue_order\"\u001b[0m\u001b[1;39m: \u001b[0m\u001b[0;39m12\u001b[0m\u001b[1;39m,\n",
      "    \u001b[0m\u001b[34;1m\"status\"\u001b[0m\u001b[1;39m: \u001b[0m\u001b[0;32m\"COMPLETED\"\u001b[0m\u001b[1;39m,\n",
      "    \u001b[0m\u001b[34;1m\"exit_code\"\u001b[0m\u001b[1;39m: \u001b[0m\u001b[0;39m0\u001b[0m\u001b[1;39m,\n",
      "    \u001b[0m\u001b[34;1m\"download_url\"\u001b[0m\u001b[1;39m: \u001b[0m\u001b[0;32m\"https://ot38.opentreeoflife.org/v3/tree_of_life/custom_built_tree/multi_snacktavish_woodpeckers_1020138_tmp39mwh_av.tar.gz\"\u001b[0m\u001b[1;39m\n",
      "  \u001b[1;39m}\u001b[0m\u001b[1;39m,\n",
      "  \u001b[0m\u001b[34;1m\"multi_snacktavish_woodpeckers_1020138_tmpoln5pfsm\"\u001b[0m\u001b[1;39m: \u001b[0m\u001b[1;39m{\n",
      "    \u001b[0m\u001b[34;1m\"opentree_home\"\u001b[0m\u001b[1;39m: \u001b[0m\u001b[0;32m\"/home/otcetera/custom_synth_repos\"\u001b[0m\u001b[1;39m,\n",
      "    \u001b[0m\u001b[34;1m\"ott_dir\"\u001b[0m\u001b[1;39m: \u001b[0m\u001b[0;32m\"/home/otcetera/custom_synth_repos/ott3.2-extinct-flagged\"\u001b[0m\u001b[1;39m,\n",
      "    \u001b[0m\u001b[34;1m\"root_ott_id\"\u001b[0m\u001b[1;39m: \u001b[0m\u001b[0;32m\"1020138\"\u001b[0m\u001b[1;39m,\n",
      "    \u001b[0m\u001b[34;1m\"synth_id\"\u001b[0m\u001b[1;39m: \u001b[0m\u001b[0;32m\"multi_snacktavish_woodpeckers_1020138_tmpoln5pfsm\"\u001b[0m\u001b[1;39m,\n",
      "    \u001b[0m\u001b[34;1m\"collections\"\u001b[0m\u001b[1;39m: \u001b[0m\u001b[0;32m\"snacktavish/woodpeckers,josephwb/aves,opentreeoflife/metazoa,opentreeoflife/safe-microbes,opentreeoflife/default,snacktavish/ebirdtaxonomy\"\u001b[0m\u001b[1;39m,\n",
      "    \u001b[0m\u001b[34;1m\"cleaning_flags\"\u001b[0m\u001b[1;39m: \u001b[0m\u001b[0;32m\"major_rank_conflict,major_rank_conflict_inherited,environmental,viral,barren,not_otu,hidden,was_container,inconsistent,hybrid,merged\"\u001b[0m\u001b[1;39m,\n",
      "    \u001b[0m\u001b[34;1m\"additional_regrafting_flags\"\u001b[0m\u001b[1;39m: \u001b[0m\u001b[0;32m\"extinct_inherited,extinct\"\u001b[0m\u001b[1;39m,\n",
      "    \u001b[0m\u001b[34;1m\"queue_order\"\u001b[0m\u001b[1;39m: \u001b[0m\u001b[0;39m5\u001b[0m\u001b[1;39m,\n",
      "    \u001b[0m\u001b[34;1m\"status\"\u001b[0m\u001b[1;39m: \u001b[0m\u001b[0;32m\"FAILED\"\u001b[0m\u001b[1;39m,\n",
      "    \u001b[0m\u001b[34;1m\"exit_code\"\u001b[0m\u001b[1;39m: \u001b[0m\u001b[0;39m1\u001b[0m\u001b[1;39m,\n",
      "    \u001b[0m\u001b[34;1m\"download_url\"\u001b[0m\u001b[1;39m: \u001b[0m\u001b[0;32m\"https://ot38.opentreeoflife.org/v3/tree_of_life/custom_built_tree/multi_snacktavish_woodpeckers_1020138_tmpoln5pfsm.tar.gz\"\u001b[0m\u001b[1;39m\n",
      "  \u001b[1;39m}\u001b[0m\u001b[1;39m,\n",
      "  \u001b[0m\u001b[34;1m\"multi_snacktavish_woodpeckers_81461_tmpq4e6csvr\"\u001b[0m\u001b[1;39m: \u001b[0m\u001b[1;39m{\n",
      "    \u001b[0m\u001b[34;1m\"opentree_home\"\u001b[0m\u001b[1;39m: \u001b[0m\u001b[0;32m\"/home/otcetera/custom_synth_repos\"\u001b[0m\u001b[1;39m,\n",
      "    \u001b[0m\u001b[34;1m\"ott_dir\"\u001b[0m\u001b[1;39m: \u001b[0m\u001b[0;32m\"/home/otcetera/custom_synth_repos/ott3.2-extinct-flagged\"\u001b[0m\u001b[1;39m,\n",
      "    \u001b[0m\u001b[34;1m\"root_ott_id\"\u001b[0m\u001b[1;39m: \u001b[0m\u001b[0;32m\"81461\"\u001b[0m\u001b[1;39m,\n",
      "    \u001b[0m\u001b[34;1m\"synth_id\"\u001b[0m\u001b[1;39m: \u001b[0m\u001b[0;32m\"multi_snacktavish_woodpeckers_81461_tmpq4e6csvr\"\u001b[0m\u001b[1;39m,\n",
      "    \u001b[0m\u001b[34;1m\"collections\"\u001b[0m\u001b[1;39m: \u001b[0m\u001b[0;32m\"snacktavish/woodpeckers,josephwb/aves,opentreeoflife/metazoa,opentreeoflife/safe-microbes,opentreeoflife/default,snacktavish/ebirdtaxonomy\"\u001b[0m\u001b[1;39m,\n",
      "    \u001b[0m\u001b[34;1m\"cleaning_flags\"\u001b[0m\u001b[1;39m: \u001b[0m\u001b[0;32m\"major_rank_conflict,major_rank_conflict_inherited,environmental,viral,barren,not_otu,hidden,was_container,inconsistent,hybrid,merged\"\u001b[0m\u001b[1;39m,\n",
      "    \u001b[0m\u001b[34;1m\"additional_regrafting_flags\"\u001b[0m\u001b[1;39m: \u001b[0m\u001b[0;32m\"extinct_inherited,extinct\"\u001b[0m\u001b[1;39m,\n",
      "    \u001b[0m\u001b[34;1m\"queue_order\"\u001b[0m\u001b[1;39m: \u001b[0m\u001b[0;39m13\u001b[0m\u001b[1;39m,\n",
      "    \u001b[0m\u001b[34;1m\"status\"\u001b[0m\u001b[1;39m: \u001b[0m\u001b[0;32m\"COMPLETED\"\u001b[0m\u001b[1;39m,\n",
      "    \u001b[0m\u001b[34;1m\"exit_code\"\u001b[0m\u001b[1;39m: \u001b[0m\u001b[0;39m0\u001b[0m\u001b[1;39m,\n",
      "    \u001b[0m\u001b[34;1m\"download_url\"\u001b[0m\u001b[1;39m: \u001b[0m\u001b[0;32m\"https://ot38.opentreeoflife.org/v3/tree_of_life/custom_built_tree/multi_snacktavish_woodpeckers_81461_tmpq4e6csvr.tar.gz\"\u001b[0m\u001b[1;39m\n",
      "  \u001b[1;39m}\u001b[0m\u001b[1;39m,\n",
      "  \u001b[0m\u001b[34;1m\"snacktavish_woodpeckertaxonomy_1020138_tmpdhq_yxsx\"\u001b[0m\u001b[1;39m: \u001b[0m\u001b[1;39m{\n",
      "    \u001b[0m\u001b[34;1m\"opentree_home\"\u001b[0m\u001b[1;39m: \u001b[0m\u001b[0;32m\"/home/otcetera/custom_synth_repos\"\u001b[0m\u001b[1;39m,\n",
      "    \u001b[0m\u001b[34;1m\"ott_dir\"\u001b[0m\u001b[1;39m: \u001b[0m\u001b[0;32m\"/home/otcetera/custom_synth_repos/ott3.2-extinct-flagged\"\u001b[0m\u001b[1;39m,\n",
      "    \u001b[0m\u001b[34;1m\"root_ott_id\"\u001b[0m\u001b[1;39m: \u001b[0m\u001b[0;32m\"1020138\"\u001b[0m\u001b[1;39m,\n",
      "    \u001b[0m\u001b[34;1m\"synth_id\"\u001b[0m\u001b[1;39m: \u001b[0m\u001b[0;32m\"snacktavish_woodpeckertaxonomy_1020138_tmpdhq_yxsx\"\u001b[0m\u001b[1;39m,\n",
      "    \u001b[0m\u001b[34;1m\"collections\"\u001b[0m\u001b[1;39m: \u001b[0m\u001b[0;32m\"snacktavish/woodpeckertaxonomy\"\u001b[0m\u001b[1;39m,\n",
      "    \u001b[0m\u001b[34;1m\"cleaning_flags\"\u001b[0m\u001b[1;39m: \u001b[0m\u001b[0;32m\"major_rank_conflict,major_rank_conflict_inherited,environmental,viral,barren,not_otu,hidden,was_container,inconsistent,hybrid,merged\"\u001b[0m\u001b[1;39m,\n",
      "    \u001b[0m\u001b[34;1m\"additional_regrafting_flags\"\u001b[0m\u001b[1;39m: \u001b[0m\u001b[0;32m\"extinct_inherited,extinct\"\u001b[0m\u001b[1;39m,\n",
      "    \u001b[0m\u001b[34;1m\"queue_order\"\u001b[0m\u001b[1;39m: \u001b[0m\u001b[0;39m9\u001b[0m\u001b[1;39m,\n",
      "    \u001b[0m\u001b[34;1m\"status\"\u001b[0m\u001b[1;39m: \u001b[0m\u001b[0;32m\"FAILED\"\u001b[0m\u001b[1;39m,\n",
      "    \u001b[0m\u001b[34;1m\"exit_code\"\u001b[0m\u001b[1;39m: \u001b[0m\u001b[0;39m1\u001b[0m\u001b[1;39m,\n",
      "    \u001b[0m\u001b[34;1m\"download_url\"\u001b[0m\u001b[1;39m: \u001b[0m\u001b[0;32m\"https://ot38.opentreeoflife.org/v3/tree_of_life/custom_built_tree/snacktavish_woodpeckertaxonomy_1020138_tmpdhq_yxsx.tar.gz\"\u001b[0m\u001b[1;39m\n",
      "  \u001b[1;39m}\u001b[0m\u001b[1;39m,\n",
      "  \u001b[0m\u001b[34;1m\"snacktavish_woodpeckertaxonomy_1020138_tmpae55xtyp\"\u001b[0m\u001b[1;39m: \u001b[0m\u001b[1;39m{\n",
      "    \u001b[0m\u001b[34;1m\"opentree_home\"\u001b[0m\u001b[1;39m: \u001b[0m\u001b[0;32m\"/home/otcetera/custom_synth_repos\"\u001b[0m\u001b[1;39m,\n",
      "    \u001b[0m\u001b[34;1m\"ott_dir\"\u001b[0m\u001b[1;39m: \u001b[0m\u001b[0;32m\"/home/otcetera/custom_synth_repos/ott3.2-extinct-flagged\"\u001b[0m\u001b[1;39m,\n",
      "    \u001b[0m\u001b[34;1m\"root_ott_id\"\u001b[0m\u001b[1;39m: \u001b[0m\u001b[0;32m\"1020138\"\u001b[0m\u001b[1;39m,\n",
      "    \u001b[0m\u001b[34;1m\"synth_id\"\u001b[0m\u001b[1;39m: \u001b[0m\u001b[0;32m\"snacktavish_woodpeckertaxonomy_1020138_tmpae55xtyp\"\u001b[0m\u001b[1;39m,\n",
      "    \u001b[0m\u001b[34;1m\"collections\"\u001b[0m\u001b[1;39m: \u001b[0m\u001b[0;32m\"snacktavish/woodpeckertaxonomy\"\u001b[0m\u001b[1;39m,\n",
      "    \u001b[0m\u001b[34;1m\"cleaning_flags\"\u001b[0m\u001b[1;39m: \u001b[0m\u001b[0;32m\"major_rank_conflict,major_rank_conflict_inherited,environmental,viral,barren,not_otu,hidden,was_container,inconsistent,hybrid,merged\"\u001b[0m\u001b[1;39m,\n",
      "    \u001b[0m\u001b[34;1m\"additional_regrafting_flags\"\u001b[0m\u001b[1;39m: \u001b[0m\u001b[0;32m\"extinct_inherited,extinct\"\u001b[0m\u001b[1;39m,\n",
      "    \u001b[0m\u001b[34;1m\"queue_order\"\u001b[0m\u001b[1;39m: \u001b[0m\u001b[0;39m10\u001b[0m\u001b[1;39m,\n",
      "    \u001b[0m\u001b[34;1m\"status\"\u001b[0m\u001b[1;39m: \u001b[0m\u001b[0;32m\"FAILED\"\u001b[0m\u001b[1;39m,\n",
      "    \u001b[0m\u001b[34;1m\"exit_code\"\u001b[0m\u001b[1;39m: \u001b[0m\u001b[0;39m1\u001b[0m\u001b[1;39m,\n",
      "    \u001b[0m\u001b[34;1m\"download_url\"\u001b[0m\u001b[1;39m: \u001b[0m\u001b[0;32m\"https://ot38.opentreeoflife.org/v3/tree_of_life/custom_built_tree/snacktavish_woodpeckertaxonomy_1020138_tmpae55xtyp.tar.gz\"\u001b[0m\u001b[1;39m\n",
      "  \u001b[1;39m}\u001b[0m\u001b[1;39m,\n",
      "  \u001b[0m\u001b[34;1m\"snacktavish_ebirdtaxonomy_1020138_tmp_qgg_ua9\"\u001b[0m\u001b[1;39m: \u001b[0m\u001b[1;39m{\n",
      "    \u001b[0m\u001b[34;1m\"opentree_home\"\u001b[0m\u001b[1;39m: \u001b[0m\u001b[0;32m\"/home/otcetera/custom_synth_repos\"\u001b[0m\u001b[1;39m,\n",
      "    \u001b[0m\u001b[34;1m\"ott_dir\"\u001b[0m\u001b[1;39m: \u001b[0m\u001b[0;32m\"/home/otcetera/custom_synth_repos/ott3.2-extinct-flagged\"\u001b[0m\u001b[1;39m,\n",
      "    \u001b[0m\u001b[34;1m\"root_ott_id\"\u001b[0m\u001b[1;39m: \u001b[0m\u001b[0;32m\"1020138\"\u001b[0m\u001b[1;39m,\n",
      "    \u001b[0m\u001b[34;1m\"synth_id\"\u001b[0m\u001b[1;39m: \u001b[0m\u001b[0;32m\"snacktavish_ebirdtaxonomy_1020138_tmp_qgg_ua9\"\u001b[0m\u001b[1;39m,\n",
      "    \u001b[0m\u001b[34;1m\"collections\"\u001b[0m\u001b[1;39m: \u001b[0m\u001b[0;32m\"snacktavish/ebirdtaxonomy\"\u001b[0m\u001b[1;39m,\n",
      "    \u001b[0m\u001b[34;1m\"cleaning_flags\"\u001b[0m\u001b[1;39m: \u001b[0m\u001b[0;32m\"major_rank_conflict,major_rank_conflict_inherited,environmental,viral,barren,not_otu,hidden,was_container,inconsistent,hybrid,merged\"\u001b[0m\u001b[1;39m,\n",
      "    \u001b[0m\u001b[34;1m\"additional_regrafting_flags\"\u001b[0m\u001b[1;39m: \u001b[0m\u001b[0;32m\"extinct_inherited,extinct\"\u001b[0m\u001b[1;39m,\n",
      "    \u001b[0m\u001b[34;1m\"queue_order\"\u001b[0m\u001b[1;39m: \u001b[0m\u001b[0;39m8\u001b[0m\u001b[1;39m,\n",
      "    \u001b[0m\u001b[34;1m\"status\"\u001b[0m\u001b[1;39m: \u001b[0m\u001b[0;32m\"FAILED\"\u001b[0m\u001b[1;39m,\n",
      "    \u001b[0m\u001b[34;1m\"exit_code\"\u001b[0m\u001b[1;39m: \u001b[0m\u001b[0;39m1\u001b[0m\u001b[1;39m,\n",
      "    \u001b[0m\u001b[34;1m\"download_url\"\u001b[0m\u001b[1;39m: \u001b[0m\u001b[0;32m\"https://ot38.opentreeoflife.org/v3/tree_of_life/custom_built_tree/snacktavish_ebirdtaxonomy_1020138_tmp_qgg_ua9.tar.gz\"\u001b[0m\u001b[1;39m\n",
      "  \u001b[1;39m}\u001b[0m\u001b[1;39m,\n",
      "  \u001b[0m\u001b[34;1m\"snacktavish_woodpeckers_1020138_tmpwh7ke8lx\"\u001b[0m\u001b[1;39m: \u001b[0m\u001b[1;39m{\n",
      "    \u001b[0m\u001b[34;1m\"opentree_home\"\u001b[0m\u001b[1;39m: \u001b[0m\u001b[0;32m\"/home/otcetera/custom_synth_repos\"\u001b[0m\u001b[1;39m,\n",
      "    \u001b[0m\u001b[34;1m\"ott_dir\"\u001b[0m\u001b[1;39m: \u001b[0m\u001b[0;32m\"/home/otcetera/custom_synth_repos/ott3.2-extinct-flagged\"\u001b[0m\u001b[1;39m,\n",
      "    \u001b[0m\u001b[34;1m\"root_ott_id\"\u001b[0m\u001b[1;39m: \u001b[0m\u001b[0;32m\"1020138\"\u001b[0m\u001b[1;39m,\n",
      "    \u001b[0m\u001b[34;1m\"synth_id\"\u001b[0m\u001b[1;39m: \u001b[0m\u001b[0;32m\"snacktavish_woodpeckers_1020138_tmpwh7ke8lx\"\u001b[0m\u001b[1;39m,\n",
      "    \u001b[0m\u001b[34;1m\"collections\"\u001b[0m\u001b[1;39m: \u001b[0m\u001b[0;32m\"snacktavish/woodpeckers\"\u001b[0m\u001b[1;39m,\n",
      "    \u001b[0m\u001b[34;1m\"cleaning_flags\"\u001b[0m\u001b[1;39m: \u001b[0m\u001b[0;32m\"major_rank_conflict,major_rank_conflict_inherited,environmental,viral,barren,not_otu,hidden,was_container,inconsistent,hybrid,merged\"\u001b[0m\u001b[1;39m,\n",
      "    \u001b[0m\u001b[34;1m\"additional_regrafting_flags\"\u001b[0m\u001b[1;39m: \u001b[0m\u001b[0;32m\"extinct_inherited,extinct\"\u001b[0m\u001b[1;39m,\n",
      "    \u001b[0m\u001b[34;1m\"queue_order\"\u001b[0m\u001b[1;39m: \u001b[0m\u001b[0;39m4\u001b[0m\u001b[1;39m,\n",
      "    \u001b[0m\u001b[34;1m\"status\"\u001b[0m\u001b[1;39m: \u001b[0m\u001b[0;32m\"COMPLETED\"\u001b[0m\u001b[1;39m,\n",
      "    \u001b[0m\u001b[34;1m\"exit_code\"\u001b[0m\u001b[1;39m: \u001b[0m\u001b[0;39m0\u001b[0m\u001b[1;39m,\n",
      "    \u001b[0m\u001b[34;1m\"download_url\"\u001b[0m\u001b[1;39m: \u001b[0m\u001b[0;32m\"https://ot38.opentreeoflife.org/v3/tree_of_life/custom_built_tree/snacktavish_woodpeckers_1020138_tmpwh7ke8lx.tar.gz\"\u001b[0m\u001b[1;39m\n",
      "  \u001b[1;39m}\u001b[0m\u001b[1;39m,\n",
      "  \u001b[0m\u001b[34;1m\"multi_snacktavish_woodpeckers_1020138_tmp3rr3h5ez\"\u001b[0m\u001b[1;39m: \u001b[0m\u001b[1;39m{\n",
      "    \u001b[0m\u001b[34;1m\"opentree_home\"\u001b[0m\u001b[1;39m: \u001b[0m\u001b[0;32m\"/home/otcetera/custom_synth_repos\"\u001b[0m\u001b[1;39m,\n",
      "    \u001b[0m\u001b[34;1m\"ott_dir\"\u001b[0m\u001b[1;39m: \u001b[0m\u001b[0;32m\"/home/otcetera/custom_synth_repos/ott3.2-extinct-flagged\"\u001b[0m\u001b[1;39m,\n",
      "    \u001b[0m\u001b[34;1m\"root_ott_id\"\u001b[0m\u001b[1;39m: \u001b[0m\u001b[0;32m\"1020138\"\u001b[0m\u001b[1;39m,\n",
      "    \u001b[0m\u001b[34;1m\"synth_id\"\u001b[0m\u001b[1;39m: \u001b[0m\u001b[0;32m\"multi_snacktavish_woodpeckers_1020138_tmp3rr3h5ez\"\u001b[0m\u001b[1;39m,\n",
      "    \u001b[0m\u001b[34;1m\"collections\"\u001b[0m\u001b[1;39m: \u001b[0m\u001b[0;32m\"snacktavish/woodpeckers,josephwb/aves,opentreeoflife/metazoa,opentreeoflife/safe-microbes,opentreeoflife/default\"\u001b[0m\u001b[1;39m,\n",
      "    \u001b[0m\u001b[34;1m\"cleaning_flags\"\u001b[0m\u001b[1;39m: \u001b[0m\u001b[0;32m\"major_rank_conflict,major_rank_conflict_inherited,environmental,viral,barren,not_otu,hidden,was_container,inconsistent,hybrid,merged\"\u001b[0m\u001b[1;39m,\n",
      "    \u001b[0m\u001b[34;1m\"additional_regrafting_flags\"\u001b[0m\u001b[1;39m: \u001b[0m\u001b[0;32m\"extinct_inherited,extinct\"\u001b[0m\u001b[1;39m,\n",
      "    \u001b[0m\u001b[34;1m\"queue_order\"\u001b[0m\u001b[1;39m: \u001b[0m\u001b[0;39m3\u001b[0m\u001b[1;39m,\n",
      "    \u001b[0m\u001b[34;1m\"status\"\u001b[0m\u001b[1;39m: \u001b[0m\u001b[0;32m\"REDIRECTED\"\u001b[0m\u001b[1;39m,\n",
      "    \u001b[0m\u001b[34;1m\"exit_code\"\u001b[0m\u001b[1;39m: \u001b[0m\u001b[0;39m0\u001b[0m\u001b[1;39m,\n",
      "    \u001b[0m\u001b[34;1m\"download_url\"\u001b[0m\u001b[1;39m: \u001b[0m\u001b[0;32m\"https://ot38.opentreeoflife.org/v3/tree_of_life/custom_built_tree/multi_snacktavish_woodpeckers_1020138_tmpmrc0r0l1.tar.gz\"\u001b[0m\u001b[1;39m,\n",
      "    \u001b[0m\u001b[34;1m\"redirect\"\u001b[0m\u001b[1;39m: \u001b[0m\u001b[0;32m\"multi_snacktavish_woodpeckers_1020138_tmpmrc0r0l1\"\u001b[0m\u001b[1;39m\n",
      "  \u001b[1;39m}\u001b[0m\u001b[1;39m,\n",
      "  \u001b[0m\u001b[34;1m\"kcranston_catfish_701516_tmphg0w_bn6\"\u001b[0m\u001b[1;39m: \u001b[0m\u001b[1;39m{\n",
      "    \u001b[0m\u001b[34;1m\"opentree_home\"\u001b[0m\u001b[1;39m: \u001b[0m\u001b[0;32m\"/home/otcetera/custom_synth_repos\"\u001b[0m\u001b[1;39m,\n",
      "    \u001b[0m\u001b[34;1m\"ott_dir\"\u001b[0m\u001b[1;39m: \u001b[0m\u001b[0;32m\"/home/otcetera/custom_synth_repos/ott3.2-extinct-flagged\"\u001b[0m\u001b[1;39m,\n",
      "    \u001b[0m\u001b[34;1m\"root_ott_id\"\u001b[0m\u001b[1;39m: \u001b[0m\u001b[0;32m\"701516\"\u001b[0m\u001b[1;39m,\n",
      "    \u001b[0m\u001b[34;1m\"synth_id\"\u001b[0m\u001b[1;39m: \u001b[0m\u001b[0;32m\"kcranston_catfish_701516_tmphg0w_bn6\"\u001b[0m\u001b[1;39m,\n",
      "    \u001b[0m\u001b[34;1m\"collections\"\u001b[0m\u001b[1;39m: \u001b[0m\u001b[0;32m\"kcranston/catfish\"\u001b[0m\u001b[1;39m,\n",
      "    \u001b[0m\u001b[34;1m\"cleaning_flags\"\u001b[0m\u001b[1;39m: \u001b[0m\u001b[0;32m\"major_rank_conflict,major_rank_conflict_inherited,environmental,viral,barren,not_otu,hidden,was_container,inconsistent,hybrid,merged\"\u001b[0m\u001b[1;39m,\n",
      "    \u001b[0m\u001b[34;1m\"additional_regrafting_flags\"\u001b[0m\u001b[1;39m: \u001b[0m\u001b[0;32m\"extinct_inherited,extinct\"\u001b[0m\u001b[1;39m,\n",
      "    \u001b[0m\u001b[34;1m\"queue_order\"\u001b[0m\u001b[1;39m: \u001b[0m\u001b[0;39m1\u001b[0m\u001b[1;39m,\n",
      "    \u001b[0m\u001b[34;1m\"status\"\u001b[0m\u001b[1;39m: \u001b[0m\u001b[0;32m\"COMPLETED\"\u001b[0m\u001b[1;39m,\n",
      "    \u001b[0m\u001b[34;1m\"exit_code\"\u001b[0m\u001b[1;39m: \u001b[0m\u001b[0;39m0\u001b[0m\u001b[1;39m,\n",
      "    \u001b[0m\u001b[34;1m\"download_url\"\u001b[0m\u001b[1;39m: \u001b[0m\u001b[0;32m\"https://ot38.opentreeoflife.org/v3/tree_of_life/custom_built_tree/kcranston_catfish_701516_tmphg0w_bn6.tar.gz\"\u001b[0m\u001b[1;39m\n",
      "  \u001b[1;39m}\u001b[0m\u001b[1;39m,\n",
      "  \u001b[0m\u001b[34;1m\"multi_snacktavish_woodpeckers_1020138_tmpmrc0r0l1\"\u001b[0m\u001b[1;39m: \u001b[0m\u001b[1;39m{\n",
      "    \u001b[0m\u001b[34;1m\"opentree_home\"\u001b[0m\u001b[1;39m: \u001b[0m\u001b[0;32m\"/home/otcetera/custom_synth_repos\"\u001b[0m\u001b[1;39m,\n",
      "    \u001b[0m\u001b[34;1m\"ott_dir\"\u001b[0m\u001b[1;39m: \u001b[0m\u001b[0;32m\"/home/otcetera/custom_synth_repos/ott3.2-extinct-flagged\"\u001b[0m\u001b[1;39m,\n",
      "    \u001b[0m\u001b[34;1m\"root_ott_id\"\u001b[0m\u001b[1;39m: \u001b[0m\u001b[0;32m\"1020138\"\u001b[0m\u001b[1;39m,\n",
      "    \u001b[0m\u001b[34;1m\"synth_id\"\u001b[0m\u001b[1;39m: \u001b[0m\u001b[0;32m\"multi_snacktavish_woodpeckers_1020138_tmpmrc0r0l1\"\u001b[0m\u001b[1;39m,\n",
      "    \u001b[0m\u001b[34;1m\"collections\"\u001b[0m\u001b[1;39m: \u001b[0m\u001b[0;32m\"snacktavish/woodpeckers,josephwb/aves,opentreeoflife/metazoa,opentreeoflife/safe-microbes,opentreeoflife/default\"\u001b[0m\u001b[1;39m,\n",
      "    \u001b[0m\u001b[34;1m\"cleaning_flags\"\u001b[0m\u001b[1;39m: \u001b[0m\u001b[0;32m\"major_rank_conflict,major_rank_conflict_inherited,environmental,viral,barren,not_otu,hidden,was_container,inconsistent,hybrid,merged\"\u001b[0m\u001b[1;39m,\n",
      "    \u001b[0m\u001b[34;1m\"additional_regrafting_flags\"\u001b[0m\u001b[1;39m: \u001b[0m\u001b[0;32m\"extinct_inherited,extinct\"\u001b[0m\u001b[1;39m,\n",
      "    \u001b[0m\u001b[34;1m\"queue_order\"\u001b[0m\u001b[1;39m: \u001b[0m\u001b[0;39m2\u001b[0m\u001b[1;39m,\n",
      "    \u001b[0m\u001b[34;1m\"status\"\u001b[0m\u001b[1;39m: \u001b[0m\u001b[0;32m\"COMPLETED\"\u001b[0m\u001b[1;39m,\n",
      "    \u001b[0m\u001b[34;1m\"exit_code\"\u001b[0m\u001b[1;39m: \u001b[0m\u001b[0;39m0\u001b[0m\u001b[1;39m,\n",
      "    \u001b[0m\u001b[34;1m\"download_url\"\u001b[0m\u001b[1;39m: \u001b[0m\u001b[0;32m\"https://ot38.opentreeoflife.org/v3/tree_of_life/custom_built_tree/multi_snacktavish_woodpeckers_1020138_tmpmrc0r0l1.tar.gz\"\u001b[0m\u001b[1;39m\n",
      "  \u001b[1;39m}\u001b[0m\u001b[1;39m,\n",
      "  \u001b[0m\u001b[34;1m\"mwestneat_reef-fishes_5839386_tmpzqih3luf\"\u001b[0m\u001b[1;39m: \u001b[0m\u001b[1;39m{\n",
      "    \u001b[0m\u001b[34;1m\"opentree_home\"\u001b[0m\u001b[1;39m: \u001b[0m\u001b[0;32m\"/home/otcetera/custom_synth_repos\"\u001b[0m\u001b[1;39m,\n",
      "    \u001b[0m\u001b[34;1m\"ott_dir\"\u001b[0m\u001b[1;39m: \u001b[0m\u001b[0;32m\"/home/otcetera/custom_synth_repos/ott3.2-extinct-flagged\"\u001b[0m\u001b[1;39m,\n",
      "    \u001b[0m\u001b[34;1m\"root_ott_id\"\u001b[0m\u001b[1;39m: \u001b[0m\u001b[0;32m\"5839386\"\u001b[0m\u001b[1;39m,\n",
      "    \u001b[0m\u001b[34;1m\"synth_id\"\u001b[0m\u001b[1;39m: \u001b[0m\u001b[0;32m\"mwestneat_reef-fishes_5839386_tmpzqih3luf\"\u001b[0m\u001b[1;39m,\n",
      "    \u001b[0m\u001b[34;1m\"collections\"\u001b[0m\u001b[1;39m: \u001b[0m\u001b[0;32m\"mwestneat/reef-fishes\"\u001b[0m\u001b[1;39m,\n",
      "    \u001b[0m\u001b[34;1m\"cleaning_flags\"\u001b[0m\u001b[1;39m: \u001b[0m\u001b[0;32m\"major_rank_conflict,major_rank_conflict_inherited,environmental,viral,barren,not_otu,hidden,was_container,inconsistent,hybrid,merged\"\u001b[0m\u001b[1;39m,\n",
      "    \u001b[0m\u001b[34;1m\"additional_regrafting_flags\"\u001b[0m\u001b[1;39m: \u001b[0m\u001b[0;32m\"extinct_inherited,extinct\"\u001b[0m\u001b[1;39m,\n",
      "    \u001b[0m\u001b[34;1m\"queue_order\"\u001b[0m\u001b[1;39m: \u001b[0m\u001b[0;39m11\u001b[0m\u001b[1;39m,\n",
      "    \u001b[0m\u001b[34;1m\"status\"\u001b[0m\u001b[1;39m: \u001b[0m\u001b[0;32m\"COMPLETED\"\u001b[0m\u001b[1;39m,\n",
      "    \u001b[0m\u001b[34;1m\"exit_code\"\u001b[0m\u001b[1;39m: \u001b[0m\u001b[0;39m0\u001b[0m\u001b[1;39m,\n",
      "    \u001b[0m\u001b[34;1m\"download_url\"\u001b[0m\u001b[1;39m: \u001b[0m\u001b[0;32m\"https://ot38.opentreeoflife.org/v3/tree_of_life/custom_built_tree/mwestneat_reef-fishes_5839386_tmpzqih3luf.tar.gz\"\u001b[0m\u001b[1;39m\n",
      "  \u001b[1;39m}\u001b[0m\u001b[1;39m,\n",
      "  \u001b[0m\u001b[34;1m\"multi_snacktavish_woodpeckers_81461_tmpsusfz0ou\"\u001b[0m\u001b[1;39m: \u001b[0m\u001b[1;39m{\n",
      "    \u001b[0m\u001b[34;1m\"opentree_home\"\u001b[0m\u001b[1;39m: \u001b[0m\u001b[0;32m\"/home/otcetera/custom_synth_repos\"\u001b[0m\u001b[1;39m,\n",
      "    \u001b[0m\u001b[34;1m\"ott_dir\"\u001b[0m\u001b[1;39m: \u001b[0m\u001b[0;32m\"/home/otcetera/custom_synth_repos/ott3.2-extinct-flagged\"\u001b[0m\u001b[1;39m,\n",
      "    \u001b[0m\u001b[34;1m\"root_ott_id\"\u001b[0m\u001b[1;39m: \u001b[0m\u001b[0;32m\"81461\"\u001b[0m\u001b[1;39m,\n",
      "    \u001b[0m\u001b[34;1m\"synth_id\"\u001b[0m\u001b[1;39m: \u001b[0m\u001b[0;32m\"multi_snacktavish_woodpeckers_81461_tmpsusfz0ou\"\u001b[0m\u001b[1;39m,\n",
      "    \u001b[0m\u001b[34;1m\"collections\"\u001b[0m\u001b[1;39m: \u001b[0m\u001b[0;32m\"snacktavish/woodpeckers,josephwb/aves,opentreeoflife/metazoa,opentreeoflife/safe-microbes,opentreeoflife/default,snacktavish/ebirdtaxonomy\"\u001b[0m\u001b[1;39m,\n",
      "    \u001b[0m\u001b[34;1m\"cleaning_flags\"\u001b[0m\u001b[1;39m: \u001b[0m\u001b[0;32m\"major_rank_conflict,major_rank_conflict_inherited,environmental,viral,barren,not_otu,hidden,was_container,inconsistent,hybrid,merged\"\u001b[0m\u001b[1;39m,\n",
      "    \u001b[0m\u001b[34;1m\"additional_regrafting_flags\"\u001b[0m\u001b[1;39m: \u001b[0m\u001b[0;32m\"extinct_inherited,extinct\"\u001b[0m\u001b[1;39m,\n",
      "    \u001b[0m\u001b[34;1m\"queue_order\"\u001b[0m\u001b[1;39m: \u001b[0m\u001b[0;39m6\u001b[0m\u001b[1;39m,\n",
      "    \u001b[0m\u001b[34;1m\"status\"\u001b[0m\u001b[1;39m: \u001b[0m\u001b[0;32m\"FAILED\"\u001b[0m\u001b[1;39m,\n",
      "    \u001b[0m\u001b[34;1m\"exit_code\"\u001b[0m\u001b[1;39m: \u001b[0m\u001b[0;39m1\u001b[0m\u001b[1;39m,\n",
      "    \u001b[0m\u001b[34;1m\"download_url\"\u001b[0m\u001b[1;39m: \u001b[0m\u001b[0;32m\"https://ot38.opentreeoflife.org/v3/tree_of_life/custom_built_tree/multi_snacktavish_woodpeckers_81461_tmpsusfz0ou.tar.gz\"\u001b[0m\u001b[1;39m\n",
      "  \u001b[1;39m}\u001b[0m\u001b[1;39m,\n",
      "  \u001b[0m\u001b[34;1m\"pcart_cnidaria_641033_tmpw07iam6g\"\u001b[0m\u001b[1;39m: \u001b[0m\u001b[1;39m{\n",
      "    \u001b[0m\u001b[34;1m\"opentree_home\"\u001b[0m\u001b[1;39m: \u001b[0m\u001b[0;32m\"/home/otcetera/custom_synth_repos\"\u001b[0m\u001b[1;39m,\n",
      "    \u001b[0m\u001b[34;1m\"ott_dir\"\u001b[0m\u001b[1;39m: \u001b[0m\u001b[0;32m\"/home/otcetera/custom_synth_repos/ott3.2-extinct-flagged\"\u001b[0m\u001b[1;39m,\n",
      "    \u001b[0m\u001b[34;1m\"root_ott_id\"\u001b[0m\u001b[1;39m: \u001b[0m\u001b[0;32m\"641033\"\u001b[0m\u001b[1;39m,\n",
      "    \u001b[0m\u001b[34;1m\"synth_id\"\u001b[0m\u001b[1;39m: \u001b[0m\u001b[0;32m\"pcart_cnidaria_641033_tmpw07iam6g\"\u001b[0m\u001b[1;39m,\n",
      "    \u001b[0m\u001b[34;1m\"collections\"\u001b[0m\u001b[1;39m: \u001b[0m\u001b[0;32m\"pcart/cnidaria\"\u001b[0m\u001b[1;39m,\n",
      "    \u001b[0m\u001b[34;1m\"cleaning_flags\"\u001b[0m\u001b[1;39m: \u001b[0m\u001b[0;32m\"major_rank_conflict,major_rank_conflict_inherited,environmental,viral,barren,not_otu,hidden,was_container,inconsistent,hybrid,merged\"\u001b[0m\u001b[1;39m,\n",
      "    \u001b[0m\u001b[34;1m\"additional_regrafting_flags\"\u001b[0m\u001b[1;39m: \u001b[0m\u001b[0;32m\"extinct_inherited,extinct\"\u001b[0m\u001b[1;39m,\n",
      "    \u001b[0m\u001b[34;1m\"queue_order\"\u001b[0m\u001b[1;39m: \u001b[0m\u001b[0;39m15\u001b[0m\u001b[1;39m,\n",
      "    \u001b[0m\u001b[34;1m\"status\"\u001b[0m\u001b[1;39m: \u001b[0m\u001b[0;32m\"COMPLETED\"\u001b[0m\u001b[1;39m,\n",
      "    \u001b[0m\u001b[34;1m\"exit_code\"\u001b[0m\u001b[1;39m: \u001b[0m\u001b[0;39m0\u001b[0m\u001b[1;39m,\n",
      "    \u001b[0m\u001b[34;1m\"download_url\"\u001b[0m\u001b[1;39m: \u001b[0m\u001b[0;32m\"https://ot38.opentreeoflife.org/v3/tree_of_life/custom_built_tree/pcart_cnidaria_641033_tmpw07iam6g.tar.gz\"\u001b[0m\u001b[1;39m\n",
      "  \u001b[1;39m}\u001b[0m\u001b[1;39m,\n",
      "  \u001b[0m\u001b[34;1m\"multi_pcart_cnidaria_93302_tmp2txmal1m\"\u001b[0m\u001b[1;39m: \u001b[0m\u001b[1;39m{\n",
      "    \u001b[0m\u001b[34;1m\"opentree_home\"\u001b[0m\u001b[1;39m: \u001b[0m\u001b[0;32m\"/home/otcetera/custom_synth_repos\"\u001b[0m\u001b[1;39m,\n",
      "    \u001b[0m\u001b[34;1m\"ott_dir\"\u001b[0m\u001b[1;39m: \u001b[0m\u001b[0;32m\"/home/otcetera/custom_synth_repos/ott3.2-extinct-flagged\"\u001b[0m\u001b[1;39m,\n",
      "    \u001b[0m\u001b[34;1m\"root_ott_id\"\u001b[0m\u001b[1;39m: \u001b[0m\u001b[0;32m\"93302\"\u001b[0m\u001b[1;39m,\n",
      "    \u001b[0m\u001b[34;1m\"synth_id\"\u001b[0m\u001b[1;39m: \u001b[0m\u001b[0;32m\"multi_pcart_cnidaria_93302_tmp2txmal1m\"\u001b[0m\u001b[1;39m,\n",
      "    \u001b[0m\u001b[34;1m\"collections\"\u001b[0m\u001b[1;39m: \u001b[0m\u001b[0;32m\"pcart/cnidaria,mwestneat/reef-fishes,josephwb/hypocreales,kcranston/catfish,kcranston/barnacles,opentreeoflife/plants,josephwb/aves,opentreeoflife/metazoa,opentreeoflife/fungi,opentreeoflife/safe-microbes,opentreeoflife/default\"\u001b[0m\u001b[1;39m,\n",
      "    \u001b[0m\u001b[34;1m\"cleaning_flags\"\u001b[0m\u001b[1;39m: \u001b[0m\u001b[0;32m\"major_rank_conflict,major_rank_conflict_inherited,environmental,viral,barren,not_otu,hidden,was_container,inconsistent,hybrid,merged\"\u001b[0m\u001b[1;39m,\n",
      "    \u001b[0m\u001b[34;1m\"additional_regrafting_flags\"\u001b[0m\u001b[1;39m: \u001b[0m\u001b[0;32m\"extinct_inherited,extinct\"\u001b[0m\u001b[1;39m,\n",
      "    \u001b[0m\u001b[34;1m\"queue_order\"\u001b[0m\u001b[1;39m: \u001b[0m\u001b[0;39m16\u001b[0m\u001b[1;39m,\n",
      "    \u001b[0m\u001b[34;1m\"status\"\u001b[0m\u001b[1;39m: \u001b[0m\u001b[0;32m\"COMPLETED\"\u001b[0m\u001b[1;39m,\n",
      "    \u001b[0m\u001b[34;1m\"exit_code\"\u001b[0m\u001b[1;39m: \u001b[0m\u001b[0;39m0\u001b[0m\u001b[1;39m,\n",
      "    \u001b[0m\u001b[34;1m\"download_url\"\u001b[0m\u001b[1;39m: \u001b[0m\u001b[0;32m\"https://ot38.opentreeoflife.org/v3/tree_of_life/custom_built_tree/multi_pcart_cnidaria_93302_tmp2txmal1m.tar.gz\"\u001b[0m\u001b[1;39m\n",
      "  \u001b[1;39m}\u001b[0m\u001b[1;39m,\n",
      "  \u001b[0m\u001b[34;1m\"multi_snacktavish_woodpeckers_81461_tmpuw9n86mh\"\u001b[0m\u001b[1;39m: \u001b[0m\u001b[1;39m{\n",
      "    \u001b[0m\u001b[34;1m\"opentree_home\"\u001b[0m\u001b[1;39m: \u001b[0m\u001b[0;32m\"/home/otcetera/custom_synth_repos\"\u001b[0m\u001b[1;39m,\n",
      "    \u001b[0m\u001b[34;1m\"ott_dir\"\u001b[0m\u001b[1;39m: \u001b[0m\u001b[0;32m\"/home/otcetera/custom_synth_repos/ott3.2-extinct-flagged\"\u001b[0m\u001b[1;39m,\n",
      "    \u001b[0m\u001b[34;1m\"root_ott_id\"\u001b[0m\u001b[1;39m: \u001b[0m\u001b[0;32m\"81461\"\u001b[0m\u001b[1;39m,\n",
      "    \u001b[0m\u001b[34;1m\"synth_id\"\u001b[0m\u001b[1;39m: \u001b[0m\u001b[0;32m\"multi_snacktavish_woodpeckers_81461_tmpuw9n86mh\"\u001b[0m\u001b[1;39m,\n",
      "    \u001b[0m\u001b[34;1m\"collections\"\u001b[0m\u001b[1;39m: \u001b[0m\u001b[0;32m\"snacktavish/woodpeckers,josephwb/aves,opentreeoflife/metazoa,opentreeoflife/safe-microbes,opentreeoflife/default,snacktavish/ebirdtaxonomy\"\u001b[0m\u001b[1;39m,\n",
      "    \u001b[0m\u001b[34;1m\"cleaning_flags\"\u001b[0m\u001b[1;39m: \u001b[0m\u001b[0;32m\"major_rank_conflict,major_rank_conflict_inherited,environmental,viral,barren,not_otu,hidden,was_container,inconsistent,hybrid,merged\"\u001b[0m\u001b[1;39m,\n",
      "    \u001b[0m\u001b[34;1m\"additional_regrafting_flags\"\u001b[0m\u001b[1;39m: \u001b[0m\u001b[0;32m\"extinct_inherited,extinct\"\u001b[0m\u001b[1;39m,\n",
      "    \u001b[0m\u001b[34;1m\"queue_order\"\u001b[0m\u001b[1;39m: \u001b[0m\u001b[0;39m17\u001b[0m\u001b[1;39m,\n",
      "    \u001b[0m\u001b[34;1m\"status\"\u001b[0m\u001b[1;39m: \u001b[0m\u001b[0;32m\"REDIRECTED\"\u001b[0m\u001b[1;39m,\n",
      "    \u001b[0m\u001b[34;1m\"exit_code\"\u001b[0m\u001b[1;39m: \u001b[0m\u001b[0;39m0\u001b[0m\u001b[1;39m,\n",
      "    \u001b[0m\u001b[34;1m\"download_url\"\u001b[0m\u001b[1;39m: \u001b[0m\u001b[0;32m\"https://ot38.opentreeoflife.org/v3/tree_of_life/custom_built_tree/multi_snacktavish_woodpeckers_81461_tmpq4e6csvr.tar.gz\"\u001b[0m\u001b[1;39m,\n",
      "    \u001b[0m\u001b[34;1m\"redirect\"\u001b[0m\u001b[1;39m: \u001b[0m\u001b[0;32m\"multi_snacktavish_woodpeckers_81461_tmpq4e6csvr\"\u001b[0m\u001b[1;39m\n",
      "  \u001b[1;39m}\u001b[0m\u001b[1;39m,\n",
      "  \u001b[0m\u001b[34;1m\"multi_snacktavish_woodpeckers_81461_tmpz6ipmbiu\"\u001b[0m\u001b[1;39m: \u001b[0m\u001b[1;39m{\n",
      "    \u001b[0m\u001b[34;1m\"opentree_home\"\u001b[0m\u001b[1;39m: \u001b[0m\u001b[0;32m\"/home/otcetera/custom_synth_repos\"\u001b[0m\u001b[1;39m,\n",
      "    \u001b[0m\u001b[34;1m\"ott_dir\"\u001b[0m\u001b[1;39m: \u001b[0m\u001b[0;32m\"/home/otcetera/custom_synth_repos/ott3.2-extinct-flagged\"\u001b[0m\u001b[1;39m,\n",
      "    \u001b[0m\u001b[34;1m\"root_ott_id\"\u001b[0m\u001b[1;39m: \u001b[0m\u001b[0;32m\"81461\"\u001b[0m\u001b[1;39m,\n",
      "    \u001b[0m\u001b[34;1m\"synth_id\"\u001b[0m\u001b[1;39m: \u001b[0m\u001b[0;32m\"multi_snacktavish_woodpeckers_81461_tmpz6ipmbiu\"\u001b[0m\u001b[1;39m,\n",
      "    \u001b[0m\u001b[34;1m\"collections\"\u001b[0m\u001b[1;39m: \u001b[0m\u001b[0;32m\"snacktavish/woodpeckers,josephwb/aves,opentreeoflife/metazoa,opentreeoflife/safe-microbes,opentreeoflife/default,snacktavish/ebirdtaxonomy\"\u001b[0m\u001b[1;39m,\n",
      "    \u001b[0m\u001b[34;1m\"cleaning_flags\"\u001b[0m\u001b[1;39m: \u001b[0m\u001b[0;32m\"major_rank_conflict,major_rank_conflict_inherited,environmental,viral,barren,not_otu,hidden,was_container,inconsistent,hybrid,merged\"\u001b[0m\u001b[1;39m,\n",
      "    \u001b[0m\u001b[34;1m\"additional_regrafting_flags\"\u001b[0m\u001b[1;39m: \u001b[0m\u001b[0;32m\"extinct_inherited,extinct\"\u001b[0m\u001b[1;39m,\n",
      "    \u001b[0m\u001b[34;1m\"queue_order\"\u001b[0m\u001b[1;39m: \u001b[0m\u001b[0;39m18\u001b[0m\u001b[1;39m,\n",
      "    \u001b[0m\u001b[34;1m\"status\"\u001b[0m\u001b[1;39m: \u001b[0m\u001b[0;32m\"REDIRECTED\"\u001b[0m\u001b[1;39m,\n",
      "    \u001b[0m\u001b[34;1m\"exit_code\"\u001b[0m\u001b[1;39m: \u001b[0m\u001b[0;39m0\u001b[0m\u001b[1;39m,\n",
      "    \u001b[0m\u001b[34;1m\"download_url\"\u001b[0m\u001b[1;39m: \u001b[0m\u001b[0;32m\"https://ot38.opentreeoflife.org/v3/tree_of_life/custom_built_tree/multi_snacktavish_woodpeckers_81461_tmpq4e6csvr.tar.gz\"\u001b[0m\u001b[1;39m,\n",
      "    \u001b[0m\u001b[34;1m\"redirect\"\u001b[0m\u001b[1;39m: \u001b[0m\u001b[0;32m\"multi_snacktavish_woodpeckers_81461_tmpq4e6csvr\"\u001b[0m\u001b[1;39m\n",
      "  \u001b[1;39m}\u001b[0m\u001b[1;39m,\n",
      "  \u001b[0m\u001b[34;1m\"multi_snacktavish_woodpeckers_81461_tmp1cxnx8d1\"\u001b[0m\u001b[1;39m: \u001b[0m\u001b[1;39m{\n",
      "    \u001b[0m\u001b[34;1m\"opentree_home\"\u001b[0m\u001b[1;39m: \u001b[0m\u001b[0;32m\"/home/otcetera/custom_synth_repos\"\u001b[0m\u001b[1;39m,\n",
      "    \u001b[0m\u001b[34;1m\"ott_dir\"\u001b[0m\u001b[1;39m: \u001b[0m\u001b[0;32m\"/home/otcetera/custom_synth_repos/ott3.2-extinct-flagged\"\u001b[0m\u001b[1;39m,\n",
      "    \u001b[0m\u001b[34;1m\"root_ott_id\"\u001b[0m\u001b[1;39m: \u001b[0m\u001b[0;32m\"81461\"\u001b[0m\u001b[1;39m,\n",
      "    \u001b[0m\u001b[34;1m\"synth_id\"\u001b[0m\u001b[1;39m: \u001b[0m\u001b[0;32m\"multi_snacktavish_woodpeckers_81461_tmp1cxnx8d1\"\u001b[0m\u001b[1;39m,\n",
      "    \u001b[0m\u001b[34;1m\"collections\"\u001b[0m\u001b[1;39m: \u001b[0m\u001b[0;32m\"snacktavish/woodpeckers,josephwb/aves,opentreeoflife/metazoa,opentreeoflife/safe-microbes,opentreeoflife/default,snacktavish/ebirdtaxonomy\"\u001b[0m\u001b[1;39m,\n",
      "    \u001b[0m\u001b[34;1m\"cleaning_flags\"\u001b[0m\u001b[1;39m: \u001b[0m\u001b[0;32m\"major_rank_conflict,major_rank_conflict_inherited,environmental,viral,barren,not_otu,hidden,was_container,inconsistent,hybrid,merged\"\u001b[0m\u001b[1;39m,\n",
      "    \u001b[0m\u001b[34;1m\"additional_regrafting_flags\"\u001b[0m\u001b[1;39m: \u001b[0m\u001b[0;32m\"extinct_inherited,extinct\"\u001b[0m\u001b[1;39m,\n",
      "    \u001b[0m\u001b[34;1m\"queue_order\"\u001b[0m\u001b[1;39m: \u001b[0m\u001b[0;39m19\u001b[0m\u001b[1;39m,\n",
      "    \u001b[0m\u001b[34;1m\"status\"\u001b[0m\u001b[1;39m: \u001b[0m\u001b[0;32m\"RUNNING\"\u001b[0m\u001b[1;39m\n",
      "  \u001b[1;39m}\u001b[0m\u001b[1;39m\n",
      "\u001b[1;39m}\u001b[0m\n"
     ]
    }
   ],
   "source": [
    "!curl -X GET https://ot38.opentreeoflife.org/v3/tree_of_life/list_custom_built_trees | jq\n"
   ]
  },
  {
   "cell_type": "markdown",
   "id": "40819659",
   "metadata": {},
   "source": [
    "Download the outputs of synthesis form the URL for your run shown in \"download_url\", and unzip"
   ]
  },
  {
   "cell_type": "code",
   "execution_count": 5,
   "id": "6d88103f",
   "metadata": {},
   "outputs": [],
   "source": [
    "#!curl -X GET https://ot38.opentreeoflife.org/v3/tree_of_life/custom_built_tree/multi_snacktavish_woodpeckers_81461_tmpuw9n86mh.tar.gz --output custom_synth.tar.gz\n"
   ]
  },
  {
   "cell_type": "code",
   "execution_count": 6,
   "id": "d4c529d2",
   "metadata": {},
   "outputs": [],
   "source": [
    "#!tar -xzvf custom_synth.tar.gz"
   ]
  },
  {
   "cell_type": "code",
   "execution_count": 7,
   "id": "126aeab0",
   "metadata": {},
   "outputs": [],
   "source": [
    "treefile = \"multi_snacktavish_woodpeckers_81461_tmpq4e6csvr/labelled_supertree/labelled_supertree.tre\"\n",
    "custom_synth_tree = dendropy.Tree.get_from_path(treefile, schema = 'newick')"
   ]
  },
  {
   "cell_type": "code",
   "execution_count": 8,
   "id": "39c464b9",
   "metadata": {},
   "outputs": [],
   "source": [
    "import json\n",
    "# From git@github.com:OpenTreeOfLife/ChronoSynth.git\n",
    "# this file is generated by running examples/conflict_test_all.py\n",
    "dates = json.load(open(\"../node_ages1.json\"))"
   ]
  },
  {
   "cell_type": "code",
   "execution_count": 9,
   "id": "ae735a4c",
   "metadata": {},
   "outputs": [
    {
     "data": {
      "text/plain": [
       "dict_keys(['metadata', 'node_ages'])"
      ]
     },
     "execution_count": 9,
     "metadata": {},
     "output_type": "execute_result"
    }
   ],
   "source": [
    "dates.keys()"
   ]
  },
  {
   "cell_type": "code",
   "execution_count": 10,
   "id": "d8b2fb70",
   "metadata": {},
   "outputs": [
    {
     "data": {
      "text/plain": [
       "{'date': '2021-04-14',\n",
       " 'synth_tree_about': {'date_created': '2019-12-23 11:41:23',\n",
       "  'filtered_flags': ['major_rank_conflict',\n",
       "   'major_rank_conflict_inherited',\n",
       "   'environmental',\n",
       "   'viral',\n",
       "   'barren',\n",
       "   'not_otu',\n",
       "   'hidden',\n",
       "   'was_container',\n",
       "   'inconsistent',\n",
       "   'hybrid',\n",
       "   'merged'],\n",
       "  'num_source_studies': 1162,\n",
       "  'num_source_trees': 1216,\n",
       "  'root': {'node_id': 'ott93302',\n",
       "   'num_tips': 2391916,\n",
       "   'taxon': {'name': 'cellular organisms',\n",
       "    'ott_id': 93302,\n",
       "    'rank': 'no rank',\n",
       "    'tax_sources': ['ncbi:131567'],\n",
       "    'unique_name': 'cellular organisms'}},\n",
       "  'synth_id': 'opentree12.3',\n",
       "  'taxonomy_version': '3.2draft9'}}"
      ]
     },
     "execution_count": 10,
     "metadata": {},
     "output_type": "execute_result"
    }
   ],
   "source": [
    "dates['metadata']"
   ]
  },
  {
   "cell_type": "markdown",
   "id": "3c892c11",
   "metadata": {},
   "source": [
    "# Dictionary has an entry for each node in the synth tree\n",
    "which we have dates for\n",
    "\n",
    "e.g.\n",
    "synth node:\n",
    "https://tree.opentreeoflife.org/opentree/argus/opentree12.3@mrcaott10058ott10061  \n",
    "\n",
    "input chronogram node\n",
    "https://tree.opentreeoflife.org/curator/study/view/ot_2008?tab=home&tree=tree5&node=node2747\n",
    "\n",
    "\n"
   ]
  },
  {
   "cell_type": "code",
   "execution_count": 11,
   "id": "aa4ab3fa",
   "metadata": {},
   "outputs": [
    {
     "data": {
      "text/plain": [
       "[{'age': 10.613932,\n",
       "  'source_id': 'ot_2008@tree5',\n",
       "  'source_node': 'node2747',\n",
       "  'time_unit': 'Myr'},\n",
       " {'age': 10.613932,\n",
       "  'source_id': 'ot_2008@tree3',\n",
       "  'source_node': 'node1523',\n",
       "  'time_unit': 'Myr'},\n",
       " {'age': 13.458842,\n",
       "  'source_id': 'ot_307@tree2',\n",
       "  'source_node': 'node10328',\n",
       "  'time_unit': 'Myr'},\n",
       " {'age': 6.26,\n",
       "  'source_id': 'ot_409@tree2',\n",
       "  'source_node': 'node75387',\n",
       "  'time_unit': 'Myr'},\n",
       " {'age': 7.636994,\n",
       "  'source_id': 'ot_1177@tree1',\n",
       "  'source_node': 'node3589',\n",
       "  'time_unit': 'Myr'},\n",
       " {'age': 6.683522,\n",
       "  'source_id': 'ot_1041@tree1',\n",
       "  'source_node': 'node3612',\n",
       "  'time_unit': 'Myr'}]"
      ]
     },
     "execution_count": 11,
     "metadata": {},
     "output_type": "execute_result"
    }
   ],
   "source": [
    "dates['node_ages']['mrcaott10058ott10061']"
   ]
  },
  {
   "cell_type": "code",
   "execution_count": 12,
   "id": "a670415e",
   "metadata": {},
   "outputs": [
    {
     "name": "stdout",
     "output_type": "stream",
     "text": [
      "ott886696\n",
      "{'age': 0.04223641137553541, 'source_id': 'ot_188@Tr44937', 'source_node': 'Tn7164523', 'time_unit': 'Myr'}\n",
      "{'age': 55.40955610300376, 'source_id': 'ot_188@Tr44941', 'source_node': 'Tn7164933', 'time_unit': 'Myr'}\n",
      "{'age': 0.06205883894405972, 'source_id': 'ot_188@Tr44935', 'source_node': 'Tn7164165', 'time_unit': 'Myr'}\n",
      "ott896272\n",
      "{'age': 241.0, 'source_id': 'ot_409@tree2', 'source_node': 'node114003', 'time_unit': 'Myr'}\n",
      "{'age': 0.0, 'source_id': 'pg_1339@tree2668', 'source_node': 'node591157', 'time_unit': 'Myr'}\n"
     ]
    }
   ],
   "source": [
    "## WARNING! It looks like there may be some errors in some of the dates!\n",
    "\n",
    "#e.g.\n",
    "# ott886696\n",
    "\n",
    "# ott896272\n",
    "# \n",
    "ott_id = 'ott886696'\n",
    "print(ott_id)\n",
    "for source in dates['node_ages'][ott_id]:\n",
    "    print(source)\n",
    "\n",
    "ott_id = 'ott896272'   \n",
    "print(ott_id)\n",
    "for source in dates['node_ages'][ott_id]:\n",
    "    print(source)\n"
   ]
  },
  {
   "cell_type": "markdown",
   "id": "94bfe242",
   "metadata": {},
   "source": [
    "## Exercise: How could you potentially find and flag or fix problematic dates?"
   ]
  },
  {
   "cell_type": "markdown",
   "id": "a2f7d4e3",
   "metadata": {},
   "source": [
    "## Write out ages file for BLADJ"
   ]
  },
  {
   "cell_type": "code",
   "execution_count": 13,
   "id": "97b1226a",
   "metadata": {},
   "outputs": [
    {
     "ename": "KeyError",
     "evalue": "'ott81461'",
     "output_type": "error",
     "traceback": [
      "\u001b[0;31m---------------------------------------------------------------------------\u001b[0m",
      "\u001b[0;31mKeyError\u001b[0m                                  Traceback (most recent call last)",
      "\u001b[0;32m<ipython-input-13-4c5bc7d2c520>\u001b[0m in \u001b[0;36m<module>\u001b[0;34m\u001b[0m\n\u001b[1;32m      2\u001b[0m \u001b[0;31m#We can check to see if there already is one\u001b[0m\u001b[0;34m\u001b[0m\u001b[0;34m\u001b[0m\u001b[0;34m\u001b[0m\u001b[0m\n\u001b[1;32m      3\u001b[0m \u001b[0;34m\u001b[0m\u001b[0m\n\u001b[0;32m----> 4\u001b[0;31m \u001b[0mdates\u001b[0m\u001b[0;34m[\u001b[0m\u001b[0;34m'node_ages'\u001b[0m\u001b[0;34m]\u001b[0m\u001b[0;34m[\u001b[0m\u001b[0;34m'ott81461'\u001b[0m\u001b[0;34m]\u001b[0m\u001b[0;34m\u001b[0m\u001b[0;34m\u001b[0m\u001b[0m\n\u001b[0m",
      "\u001b[0;31mKeyError\u001b[0m: 'ott81461'"
     ]
    }
   ],
   "source": [
    "#Blad demands a date for the root, and will seg fault if it doesn't get one. \n",
    "#We can check to see if there already is one\n",
    "\n",
    "dates['node_ages']['ott81461']"
   ]
  },
  {
   "cell_type": "code",
   "execution_count": null,
   "id": "9a4efd6f",
   "metadata": {},
   "outputs": [],
   "source": [
    "#I picked this one form google, and am adding it to the dictionary\n",
    "dates['node_ages']['ott81461'] = {'age': 60,\n",
    "  'source_id': 'google',\n",
    "  'source_node': None,\n",
    "  'time_unit': 'Myr'},"
   ]
  },
  {
   "cell_type": "markdown",
   "id": "048d824e",
   "metadata": {},
   "source": [
    "We will write out input files for BLADJ.\n",
    "http://phylodiversity.net/bladj/\n",
    "\n",
    "This program is VERY finicky. If it appears not to be running, try directly on teh command line to see if you can get mroe helpful error messages.\n"
   ]
  },
  {
   "cell_type": "markdown",
   "id": "f8394054",
   "metadata": {},
   "source": [
    "## Exercise: Function for bladj inputs\n",
    "Make this into a chronosynth function, that takes a tree and a dates dictionary, \n",
    " and returns the ages file, input tree and citations for the dates!\n"
   ]
  },
  {
   "cell_type": "code",
   "execution_count": null,
   "id": "db0bca4c",
   "metadata": {},
   "outputs": [],
   "source": [
    "##TODO make this into a chronosynth function, that takes a tree and a dates dictionary, \n",
    "# and returns the ages file, input tree and citations for the dates!\n",
    "\n",
    "ages = open(\"ages\",'w')\n",
    "\n",
    "dated_nodes = set()\n",
    "undated_nodes = set()\n",
    "for node in custom_synth_tree:\n",
    "    lab = None\n",
    "    if node.label:\n",
    "        if node.label.startswith('mrca'):\n",
    "            lab = node.label\n",
    "        elif node.label.startswith('ott'):\n",
    "            lab = node.label\n",
    "        else:\n",
    "            lab = node.label.split()[-1]\n",
    "        if lab in dates['node_ages']:\n",
    "            dated_nodes.add(lab)\n",
    "            age_range = [float(source['age']) for source in dates['node_ages'][lab]]\n",
    "            age_est = sum(age_range) / len(age_range)\n",
    "            # This uses the average age across multiple age estimates.\n",
    "            ages.write(\"{}\\t{}\\n\".format(node.label, age_est))\n",
    "        else:\n",
    "            undated_nodes.add(lab)\n",
    "\n",
    "\n",
    "len(dated_nodes)"
   ]
  },
  {
   "cell_type": "code",
   "execution_count": null,
   "id": "5eaa7802",
   "metadata": {},
   "outputs": [],
   "source": [
    "custom_synth_tree.write(path = \"bladj_input.tre\", schema = \"newick\")\n"
   ]
  },
  {
   "cell_type": "code",
   "execution_count": null,
   "id": "260860d7",
   "metadata": {},
   "outputs": [],
   "source": [
    "! phylocom bladj -f bladj_input.tre > blad.tre"
   ]
  },
  {
   "cell_type": "code",
   "execution_count": null,
   "id": "7520fb48",
   "metadata": {},
   "outputs": [],
   "source": [
    "dated = dendropy.Tree.get(path=\"blad.tre\", schema='newick')"
   ]
  },
  {
   "cell_type": "code",
   "execution_count": null,
   "id": "97f8980b",
   "metadata": {},
   "outputs": [],
   "source": []
  }
 ],
 "metadata": {
  "kernelspec": {
   "display_name": "opentree",
   "language": "python",
   "name": "opentree"
  },
  "language_info": {
   "codemirror_mode": {
    "name": "ipython",
    "version": 3
   },
   "file_extension": ".py",
   "mimetype": "text/x-python",
   "name": "python",
   "nbconvert_exporter": "python",
   "pygments_lexer": "ipython3",
   "version": "3.7.3"
  }
 },
 "nbformat": 4,
 "nbformat_minor": 5
}
